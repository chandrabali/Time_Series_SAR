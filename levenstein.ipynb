{
 "cells": [
  {
   "cell_type": "code",
   "execution_count": null,
   "metadata": {},
   "outputs": [],
   "source": [
    "#Levenstein similarity\n",
    "\n",
    "#https://ieeexplore.ieee.org/stamp/stamp.jsp?arnumber=4160958"
   ]
  },
  {
   "cell_type": "code",
   "execution_count": 10,
   "metadata": {},
   "outputs": [],
   "source": [
    "def  Levenstein(arr1, arr2):\n",
    "    import numpy as np\n",
    "    \n",
    "    return np.count_nonzero(arr1 - arr2)\n",
    "    "
   ]
  },
  {
   "cell_type": "code",
   "execution_count": 1,
   "metadata": {},
   "outputs": [
    {
     "name": "stdout",
     "output_type": "stream",
     "text": [
      "[[1. 0. 0. 0.]\n",
      " [0. 1. 0. 0.]\n",
      " [0. 0. 1. 0.]\n",
      " [0. 0. 0. 1.]]\n"
     ]
    }
   ],
   "source": [
    "import numpy as np\n",
    "print(np.eye(4))"
   ]
  },
  {
   "cell_type": "code",
   "execution_count": 3,
   "metadata": {},
   "outputs": [
    {
     "data": {
      "text/plain": [
       "9"
      ]
     },
     "execution_count": 3,
     "metadata": {},
     "output_type": "execute_result"
    }
   ],
   "source": [
    "np.count_nonzero(np.eye(9))"
   ]
  },
  {
   "cell_type": "code",
   "execution_count": 9,
   "metadata": {},
   "outputs": [
    {
     "name": "stdout",
     "output_type": "stream",
     "text": [
      "[[ -7  -7   0   0]\n",
      " [  0 -10 -18   0]]\n",
      "<class 'numpy.ndarray'> (2, 4)\n"
     ]
    }
   ],
   "source": [
    "a = np.array([[0, 1, 7, 9],\n",
    "              [3, 0, 2, 19]])\n",
    "b= np.array([[7, 8, 7, 9],\n",
    "              [3, 10, 20, 19]])\n",
    "print(a-b)\n",
    "print(type(a-b), (a-b).shape)"
   ]
  },
  {
   "cell_type": "code",
   "execution_count": 7,
   "metadata": {},
   "outputs": [
    {
     "data": {
      "text/plain": [
       "6"
      ]
     },
     "execution_count": 7,
     "metadata": {},
     "output_type": "execute_result"
    }
   ],
   "source": [
    "np.count_nonzero(a)"
   ]
  },
  {
   "cell_type": "code",
   "execution_count": 1,
   "metadata": {},
   "outputs": [
    {
     "name": "stdout",
     "output_type": "stream",
     "text": [
      "0 0.0 256.0 0.0 256.0\n",
      "\n",
      "\n",
      "1 256.0 512.0 0.0 256.0\n",
      "\n",
      "\n",
      "2 512.0 768.0 0.0 256.0\n",
      "\n",
      "\n",
      "3 768.0 1024.0 0.0 256.0\n",
      "\n",
      "\n",
      "4 1024.0 1280.0 0.0 256.0\n",
      "\n",
      "\n",
      "99 25344.0 0.0 0.0 256.0\n",
      "\n",
      "\n",
      "100 0.0 256.0 256.0 512.0\n",
      "\n",
      "\n",
      "81 20736.0 20992.0 0.0 256.0\n",
      "\n",
      "\n",
      "1863 16128.0 16384.0 4608.0 4864.0\n",
      "\n",
      "\n",
      "2073 18688.0 18944.0 5120.0 5376.0\n",
      "\n",
      "\n",
      "2409 2304.0 2560.0 6144.0 6400.0\n",
      "\n",
      "\n",
      "5438 9728.0 9984.0 13824.0 14080.0\n",
      "\n",
      "\n",
      "6071 18176.0 18432.0 15360.0 15616.0\n",
      "\n",
      "\n"
     ]
    }
   ],
   "source": [
    "import numpy as np\n",
    "idn= np.array([0,1,2,3,4, 99, 100,81,1863,2073, 2409,5438,6071])\n",
    "\n",
    "x_min = np.zeros(idn.shape[0])\n",
    "y_min= np.zeros(idn.shape[0])\n",
    "\n",
    "x_max = np.zeros(idn.shape[0])\n",
    "y_max = np.zeros(idn.shape[0])\n",
    "\n",
    "\n",
    "\n",
    "\n",
    "for i in range (idn.shape[0]):\n",
    "    \n",
    "    x_min[i] = (idn[i]%100) * 256\n",
    "    x_max[i] = ((idn[i] + 1) %100) * 256\n",
    "    \n",
    "    y_min[i]= int(idn[i]/100) * 256\n",
    "    y_max[i]= (int(idn[i]/100) + 1) * 256\n",
    "    \n",
    "    print(idn[i], x_min[i],x_max[i],y_min[i],y_max[i])\n",
    "    print(\"\\n\")"
   ]
  },
  {
   "cell_type": "code",
   "execution_count": null,
   "metadata": {},
   "outputs": [],
   "source": [
    "filename_lattitude = \"C:\\\\12months\\\\lat_geotiff.tif\"\n",
    "filename_longitude= \"C:\\\\12months\\\\lon_geotiff.tif\"\n",
    "\n",
    "gtif = gdal.Open(filename_lattitude)\n",
    "band=gtif.GetRasterBand(1)\n",
    "lattitude = band.ReadAsArray()\n",
    "\n",
    "gtif = gdal.Open(filename_longitude)\n",
    "band=gtif.GetRasterBand(1)\n",
    "longitude = band.ReadAsArray()\n",
    "\n",
    "print(np.amax(array_hh))\n",
    "print(\"hh\" + str(array_hh.shape))\n",
    "image_hh_list.append(array_hh)\n",
    "    "
   ]
  }
 ],
 "metadata": {
  "kernelspec": {
   "display_name": "Python 3",
   "language": "python",
   "name": "python3"
  },
  "language_info": {
   "codemirror_mode": {
    "name": "ipython",
    "version": 3
   },
   "file_extension": ".py",
   "mimetype": "text/x-python",
   "name": "python",
   "nbconvert_exporter": "python",
   "pygments_lexer": "ipython3",
   "version": "3.8.1"
  }
 },
 "nbformat": 4,
 "nbformat_minor": 4
}
